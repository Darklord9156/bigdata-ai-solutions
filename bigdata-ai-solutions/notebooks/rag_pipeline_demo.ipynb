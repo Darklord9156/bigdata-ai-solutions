{
  "cells": [
    {
      "cell_type": "markdown",
      "metadata": {},
      "source": [
        "# RAG Pipeline Demo"
      ]
    },
    {
      "cell_type": "code",
      "metadata": {},
      "source": [
        "# See projects/rag-llm-pipeline for full script versions\nprint('Load docs, create embeddings, query index')"
      ],
      "outputs": [],
      "execution_count": null
    }
  ],
  "metadata": {
    "kernelspec": {
      "display_name": "Python 3",
      "language": "python",
      "name": "python3"
    }
  },
  "nbformat": 4,
  "nbformat_minor": 5
}